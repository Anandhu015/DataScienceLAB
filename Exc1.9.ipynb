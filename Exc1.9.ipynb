{
 "cells": [
  {
   "cell_type": "code",
   "execution_count": 52,
   "id": "c3c063a5",
   "metadata": {},
   "outputs": [
    {
     "name": "stdout",
     "output_type": "stream",
     "text": [
      "[[15 64 63 35]\n",
      " [32 23 51 33]\n",
      " [21 39 51 41]\n",
      " [47  5 55 73]]\n",
      "After swapping the first and last rows\n",
      "[[47  5 55 73]\n",
      " [32 23 51 33]\n",
      " [21 39 51 41]\n",
      " [15 64 63 35]]\n"
     ]
    }
   ],
   "source": [
    "import numpy as nup\n",
    "array=nup.random.randint(100,size=(4,4))\n",
    "print(array)\n",
    "print(\"After swapping the first and last rows\")\n",
    "array[[3,0]]=array[[0,3]]\n",
    "print(array)\n",
    "\n"
   ]
  },
  {
   "cell_type": "code",
   "execution_count": null,
   "id": "d0fcbabe",
   "metadata": {},
   "outputs": [],
   "source": []
  },
  {
   "cell_type": "code",
   "execution_count": null,
   "id": "7a0539aa",
   "metadata": {},
   "outputs": [],
   "source": []
  },
  {
   "cell_type": "code",
   "execution_count": null,
   "id": "795d223d",
   "metadata": {},
   "outputs": [],
   "source": []
  },
  {
   "cell_type": "code",
   "execution_count": null,
   "id": "adc898a6",
   "metadata": {},
   "outputs": [],
   "source": []
  }
 ],
 "metadata": {
  "kernelspec": {
   "display_name": "Python 3 (ipykernel)",
   "language": "python",
   "name": "python3"
  },
  "language_info": {
   "codemirror_mode": {
    "name": "ipython",
    "version": 3
   },
   "file_extension": ".py",
   "mimetype": "text/x-python",
   "name": "python",
   "nbconvert_exporter": "python",
   "pygments_lexer": "ipython3",
   "version": "3.9.7"
  }
 },
 "nbformat": 4,
 "nbformat_minor": 5
}
