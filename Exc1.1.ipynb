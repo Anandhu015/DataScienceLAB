{
 "cells": [
  {
   "cell_type": "code",
   "execution_count": 11,
   "id": "851ea80f",
   "metadata": {},
   "outputs": [
    {
     "name": "stdout",
     "output_type": "stream",
     "text": [
      "original numbers\n",
      "[[ 7  3  2]\n",
      " [ 1  2 13]]\n",
      "[[6 7 2]\n",
      " [1 8 9]]\n",
      "Comparison-Greater\n",
      "[[ True False False]\n",
      " [False False  True]]\n",
      "Comparison_Greater--equal\n",
      "[[ True False  True]\n",
      " [ True False  True]]\n",
      "Comarison--less\n",
      "[[False  True False]\n",
      " [False  True False]]\n",
      "[[False  True  True]\n",
      " [ True  True False]]\n"
     ]
    }
   ],
   "source": [
    "import numpy as nup\n",
    "x=nup.array([[7,3,2],[1,2,13]])\n",
    "y=nup.array([[6,7,2],[1,8,9]])\n",
    "print(\"original numbers\")\n",
    "print(x)\n",
    "print(y)\n",
    "print(\"Comparison-Greater\")\n",
    "print(nup.greater(x,y))\n",
    "print(\"Comparison_Greater--equal\")\n",
    "print(nup.greater_equal(x,y))\n",
    "print(\"Comarison--less\")\n",
    "print(nup.less(x,y))\n",
    "print(\"COmparison--lese_equal\")\n",
    "print(nup.less_equal(x,y))\n"
   ]
  },
  {
   "cell_type": "code",
   "execution_count": null,
   "id": "9bcb0c93",
   "metadata": {},
   "outputs": [],
   "source": []
  }
 ],
 "metadata": {
  "kernelspec": {
   "display_name": "Python 3 (ipykernel)",
   "language": "python",
   "name": "python3"
  },
  "language_info": {
   "codemirror_mode": {
    "name": "ipython",
    "version": 3
   },
   "file_extension": ".py",
   "mimetype": "text/x-python",
   "name": "python",
   "nbconvert_exporter": "python",
   "pygments_lexer": "ipython3",
   "version": "3.9.7"
  }
 },
 "nbformat": 4,
 "nbformat_minor": 5
}
