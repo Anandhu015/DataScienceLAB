{
 "cells": [
  {
   "cell_type": "code",
   "execution_count": 9,
   "id": "2f759be5",
   "metadata": {},
   "outputs": [
    {
     "name": "stdout",
     "output_type": "stream",
     "text": [
      "Original array\n",
      "[[ 0  1  2  3]\n",
      " [ 4  5  6  7]\n",
      " [ 8  9 10 11]]\n",
      "After loading,the contents of the file:\n",
      "[[ 0.  1.  2.  3.]\n",
      " [ 4.  5.  6.  7.]\n",
      " [ 8.  9. 10. 11.]]\n"
     ]
    }
   ],
   "source": [
    "import numpy as nup\n",
    "array=nup.arange(12).reshape(3,4)\n",
    "print(\"Original array\")\n",
    "print(array)\n",
    "header='col1 col2 col3'\n",
    "nup.savetxt('exc1.txt',array,fmt=\"%d\",header=header)\n",
    "print(\"After loading,the contents of the file:\")\n",
    "result=nup.loadtxt('exc1.txt')\n",
    "print(result)\n"
   ]
  },
  {
   "cell_type": "code",
   "execution_count": null,
   "id": "cf5aa700",
   "metadata": {},
   "outputs": [],
   "source": []
  }
 ],
 "metadata": {
  "kernelspec": {
   "display_name": "Python 3 (ipykernel)",
   "language": "python",
   "name": "python3"
  },
  "language_info": {
   "codemirror_mode": {
    "name": "ipython",
    "version": 3
   },
   "file_extension": ".py",
   "mimetype": "text/x-python",
   "name": "python",
   "nbconvert_exporter": "python",
   "pygments_lexer": "ipython3",
   "version": "3.9.7"
  }
 },
 "nbformat": 4,
 "nbformat_minor": 5
}
