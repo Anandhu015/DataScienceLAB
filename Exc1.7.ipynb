{
 "cells": [
  {
   "cell_type": "code",
   "execution_count": 8,
   "id": "59a225e5",
   "metadata": {},
   "outputs": [
    {
     "name": "stdout",
     "output_type": "stream",
     "text": [
      "To check the arrays x,y are equal or not\n",
      "[[ True  True  True]\n",
      " [ True  True  True]\n",
      " [ True  True  True]]\n",
      "To check the arrays x,z are equal or not\n",
      "[[ True False  True]\n",
      " [False  True  True]\n",
      " [ True False False]]\n"
     ]
    }
   ],
   "source": [
    "import numpy as nup\n",
    "x=nup.array([[10,20,30],[20,30,40],[30,50,60]])\n",
    "y=nup.array([[10,20,30],[20,30,40],[30,50,60]])\n",
    "z=nup.array([[10,40,30],[10,30,40],[30,60,70]])\n",
    "print(\"To check the arrays x,y are equal or not\")\n",
    "print(nup.equal(x,y))\n",
    "print(\"To check the arrays x,z are equal or not\")\n",
    "print(nup.equal(x,z))"
   ]
  },
  {
   "cell_type": "code",
   "execution_count": null,
   "id": "2bcfdd63",
   "metadata": {},
   "outputs": [],
   "source": []
  }
 ],
 "metadata": {
  "kernelspec": {
   "display_name": "Python 3 (ipykernel)",
   "language": "python",
   "name": "python3"
  },
  "language_info": {
   "codemirror_mode": {
    "name": "ipython",
    "version": 3
   },
   "file_extension": ".py",
   "mimetype": "text/x-python",
   "name": "python",
   "nbconvert_exporter": "python",
   "pygments_lexer": "ipython3",
   "version": "3.9.7"
  }
 },
 "nbformat": 4,
 "nbformat_minor": 5
}
