{
 "cells": [
  {
   "cell_type": "code",
   "execution_count": 5,
   "id": "1c6c0e53",
   "metadata": {},
   "outputs": [
    {
     "name": "stdout",
     "output_type": "stream",
     "text": [
      "array1\n",
      "[[1 2 3]\n",
      " [4 5 6]\n",
      " [7 8 9]]\n",
      "array2\n",
      "[[5 2 3]\n",
      " [2 7 7]\n",
      " [9 6 4]]\n",
      "multiplication of arrays of same size\n",
      "[[ 5  4  9]\n",
      " [ 8 35 42]\n",
      " [63 48 36]]\n"
     ]
    }
   ],
   "source": [
    "import numpy as num\n",
    "x=num.array([[1,2,3],[4,5,6],[7,8,9]])\n",
    "y=num.array([[5,2,3],[2,7,7],[9,6,4]])\n",
    "print(\"array1\")\n",
    "print(x)\n",
    "print(\"array2\")\n",
    "print(y)\n",
    "print(\"multiplication of arrays of same size\")\n",
    "print(num.multiply(x,y))"
   ]
  },
  {
   "cell_type": "code",
   "execution_count": null,
   "id": "256e9cd9",
   "metadata": {},
   "outputs": [],
   "source": []
  }
 ],
 "metadata": {
  "kernelspec": {
   "display_name": "Python 3 (ipykernel)",
   "language": "python",
   "name": "python3"
  },
  "language_info": {
   "codemirror_mode": {
    "name": "ipython",
    "version": 3
   },
   "file_extension": ".py",
   "mimetype": "text/x-python",
   "name": "python",
   "nbconvert_exporter": "python",
   "pygments_lexer": "ipython3",
   "version": "3.9.7"
  }
 },
 "nbformat": 4,
 "nbformat_minor": 5
}
