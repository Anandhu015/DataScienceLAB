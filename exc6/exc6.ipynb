{
  "nbformat": 4,
  "nbformat_minor": 0,
  "metadata": {
    "colab": {
      "name": "exc6.ipynb",
      "provenance": [],
      "collapsed_sections": []
    },
    "kernelspec": {
      "name": "python3",
      "display_name": "Python 3"
    },
    "language_info": {
      "name": "python"
    }
  },
  "cells": [
    {
      "cell_type": "code",
      "execution_count": null,
      "metadata": {
        "id": "MgCqJu1RlrBl"
      },
      "outputs": [],
      "source": [
        "from sklearn.datasets import load_iris\n",
        "iris=load_iris()"
      ]
    },
    {
      "cell_type": "code",
      "source": [
        "x=iris.data\n",
        "y=iris.target\n",
        "fname=iris.feature_names\n",
        "print(\"feature variables\")\n",
        "print(fname)"
      ],
      "metadata": {
        "colab": {
          "base_uri": "https://localhost:8080/"
        },
        "id": "tIosbyxRSkB2",
        "outputId": "03882609-b7f9-48f7-9b20-f7dd7f963526"
      },
      "execution_count": null,
      "outputs": [
        {
          "output_type": "stream",
          "name": "stdout",
          "text": [
            "feature variables\n",
            "['sepal length (cm)', 'sepal width (cm)', 'petal length (cm)', 'petal width (cm)']\n"
          ]
        }
      ]
    },
    {
      "cell_type": "code",
      "source": [
        "tname=iris.target_names\n",
        "print(\"target names\")\n",
        "print(tname)"
      ],
      "metadata": {
        "colab": {
          "base_uri": "https://localhost:8080/"
        },
        "id": "iRtDWmOTS8Mx",
        "outputId": "7cae67cc-d4bf-41f6-cffb-b58034d4342f"
      },
      "execution_count": null,
      "outputs": [
        {
          "output_type": "stream",
          "name": "stdout",
          "text": [
            "target names\n",
            "['setosa' 'versicolor' 'virginica']\n"
          ]
        }
      ]
    },
    {
      "cell_type": "code",
      "source": [
        "print(\"first 5 data\")\n",
        "print(x[:5])"
      ],
      "metadata": {
        "colab": {
          "base_uri": "https://localhost:8080/"
        },
        "id": "Wm4mZ9RtTId3",
        "outputId": "dfd955f7-80f2-44fe-8cea-098921d3810a"
      },
      "execution_count": null,
      "outputs": [
        {
          "output_type": "stream",
          "name": "stdout",
          "text": [
            "first 5 data\n",
            "[[5.1 3.5 1.4 0.2]\n",
            " [4.9 3.  1.4 0.2]\n",
            " [4.7 3.2 1.3 0.2]\n",
            " [4.6 3.1 1.5 0.2]\n",
            " [5.  3.6 1.4 0.2]]\n"
          ]
        }
      ]
    },
    {
      "cell_type": "code",
      "source": [
        "print(\"splitting data into testing and training\")\n",
        "from sklearn.model_selection import train_test_split\n",
        "x_train,x_test,y_train,y_test=train_test_split(x,y,train_size=0.4)\n",
        "print(\"train data size\")\n",
        "print(x_train.shape)\n",
        "print(\"test data size\")\n",
        "x_test.shape"
      ],
      "metadata": {
        "colab": {
          "base_uri": "https://localhost:8080/"
        },
        "id": "iW013UBkT_20",
        "outputId": "ce9afb32-5f47-42a3-ef70-b77b4104a467"
      },
      "execution_count": null,
      "outputs": [
        {
          "output_type": "stream",
          "name": "stdout",
          "text": [
            "splitting data into testing and training\n",
            "train data size\n",
            "(60, 4)\n",
            "test data size\n"
          ]
        },
        {
          "output_type": "execute_result",
          "data": {
            "text/plain": [
              "(90, 4)"
            ]
          },
          "metadata": {},
          "execution_count": 48
        }
      ]
    },
    {
      "cell_type": "code",
      "source": [
        "from sklearn.naive_bayes import GaussianNB\n",
        "model=GaussianNB(priors=None,var_smoothing=1e-9)\n",
        "model.fit(x_train,y_train)"
      ],
      "metadata": {
        "colab": {
          "base_uri": "https://localhost:8080/"
        },
        "id": "w_ULgXORV7X8",
        "outputId": "05cafd3f-44c6-473b-9aba-a915d7de7a76"
      },
      "execution_count": null,
      "outputs": [
        {
          "output_type": "execute_result",
          "data": {
            "text/plain": [
              "GaussianNB()"
            ]
          },
          "metadata": {},
          "execution_count": 49
        }
      ]
    },
    {
      "cell_type": "code",
      "source": [
        "y_predict=model.predict(x_test)\n",
        "print(\"actual target values\")\n",
        "print(y_test)\n",
        "print(\"predicted target values\")\n",
        "print(y_predict)"
      ],
      "metadata": {
        "colab": {
          "base_uri": "https://localhost:8080/"
        },
        "id": "B_vGI6ZmVGU-",
        "outputId": "750dbdf3-47d7-47f4-aedd-ac9827855b50"
      },
      "execution_count": null,
      "outputs": [
        {
          "output_type": "stream",
          "name": "stdout",
          "text": [
            "actual target values\n",
            "[1 1 1 0 1 2 1 0 0 0 2 2 1 1 1 0 0 1 1 1 2 2 2 1 1 2 1 2 0 2 2 0 0 0 0 0 2\n",
            " 0 2 2 0 0 0 2 2 1 0 0 1 2 0 1 1 1 2 0 1 0 1 0 2 0 0 0 1 2 2 2 1 1 2 1 0 2\n",
            " 0 0 2 2 0 1 1 2 0 2 1 1 1 1 1 2]\n",
            "predicted target values\n",
            "[1 1 1 0 1 2 1 0 0 0 2 2 1 1 1 0 0 1 1 1 2 2 2 1 1 2 1 1 0 2 2 0 0 0 0 0 2\n",
            " 0 2 2 0 0 0 2 1 1 0 0 1 2 0 1 1 1 2 0 1 0 1 0 2 0 0 0 1 2 2 2 1 2 2 1 0 2\n",
            " 0 0 2 2 0 1 1 2 0 2 1 1 1 2 1 2]\n"
          ]
        }
      ]
    },
    {
      "cell_type": "code",
      "source": [
        "sample=[[4.2,3,2,0.3]]\n",
        "pred=model.predict(sample)\n",
        "pred_v=[iris.target_names[p] for p in pred]\n",
        "print(pred_v)"
      ],
      "metadata": {
        "colab": {
          "base_uri": "https://localhost:8080/"
        },
        "id": "40pg74Ooej1X",
        "outputId": "88b2bb42-73b9-434b-c48b-395e3177e8f5"
      },
      "execution_count": 55,
      "outputs": [
        {
          "output_type": "stream",
          "name": "stdout",
          "text": [
            "['setosa']\n"
          ]
        }
      ]
    },
    {
      "cell_type": "code",
      "source": [
        "from sklearn import metrics\n",
        "print(\"accuracy score\")\n",
        "metrics.accuracy_score(y_test,y_predict)"
      ],
      "metadata": {
        "colab": {
          "base_uri": "https://localhost:8080/"
        },
        "id": "Fv6GWcF4XVF_",
        "outputId": "017caceb-e995-4f9a-92f6-3c11170507bd"
      },
      "execution_count": null,
      "outputs": [
        {
          "output_type": "stream",
          "name": "stdout",
          "text": [
            "accuracy score\n"
          ]
        },
        {
          "output_type": "execute_result",
          "data": {
            "text/plain": [
              "0.9555555555555556"
            ]
          },
          "metadata": {},
          "execution_count": 51
        }
      ]
    }
  ]
}