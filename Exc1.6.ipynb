{
 "cells": [
  {
   "cell_type": "code",
   "execution_count": 9,
   "id": "e25d610e",
   "metadata": {},
   "outputs": [
    {
     "name": "stdout",
     "output_type": "stream",
     "text": [
      "Sum of all elemets\n",
      "450\n",
      "Sum of each Column elements\n",
      "[120 150 180]\n",
      "Sum of each row elements\n",
      "[ 60 150 240]\n"
     ]
    }
   ],
   "source": [
    "import numpy as nup\n",
    "array=nup.array([[10,20,30],[40,50,60],[70,80,90]])\n",
    "print(\"Sum of all elemets\")\n",
    "print(nup.sum(array))\n",
    "print(\"Sum of each Column elements\")\n",
    "print(nup.sum(array,0))\n",
    "print(\"Sum of each row elements\")\n",
    "print(nup.sum(array,1))"
   ]
  },
  {
   "cell_type": "code",
   "execution_count": null,
   "id": "381a3cab",
   "metadata": {},
   "outputs": [],
   "source": []
  },
  {
   "cell_type": "code",
   "execution_count": null,
   "id": "6812bc92",
   "metadata": {},
   "outputs": [],
   "source": []
  }
 ],
 "metadata": {
  "kernelspec": {
   "display_name": "Python 3 (ipykernel)",
   "language": "python",
   "name": "python3"
  },
  "language_info": {
   "codemirror_mode": {
    "name": "ipython",
    "version": 3
   },
   "file_extension": ".py",
   "mimetype": "text/x-python",
   "name": "python",
   "nbconvert_exporter": "python",
   "pygments_lexer": "ipython3",
   "version": "3.9.7"
  }
 },
 "nbformat": 4,
 "nbformat_minor": 5
}
