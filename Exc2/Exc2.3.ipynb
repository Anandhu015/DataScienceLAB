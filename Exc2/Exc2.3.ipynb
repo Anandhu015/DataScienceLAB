{
 "cells": [
  {
   "cell_type": "code",
   "execution_count": 3,
   "id": "6c9c3cab",
   "metadata": {},
   "outputs": [
    {
     "name": "stdout",
     "output_type": "stream",
     "text": [
      "Enter row size :3\n",
      "Enter column size :3\n",
      "element:1\n",
      "element:4\n",
      "element:5\n",
      "element:6\n",
      "element:7\n",
      "element:89\n",
      "element:0\n",
      "element:1\n",
      "element:2\n",
      "[[ 1  4  5]\n",
      " [ 6  7 89]\n",
      " [ 0  1  2]]\n",
      "Trace of the  matrix: 10\n"
     ]
    }
   ],
   "source": [
    "import numpy as nup\n",
    "array1=[]\n",
    "r=int(input(\"Enter row size :\"))\n",
    "c=int(input(\"Enter column size :\"))\n",
    "for i in range(r):\n",
    "    for j in range(c):\n",
    "        array1.append(int(input(\"element:\")))\n",
    "array1=nup.array(array1).reshape(r,c)\n",
    "print(array1)\n",
    "print(\"Trace of the  matrix:\",nup.trace(array1))"
   ]
  },
  {
   "cell_type": "code",
   "execution_count": null,
   "id": "aaf5a723",
   "metadata": {},
   "outputs": [],
   "source": []
  },
  {
   "cell_type": "code",
   "execution_count": null,
   "id": "b23237d0",
   "metadata": {},
   "outputs": [],
   "source": []
  }
 ],
 "metadata": {
  "kernelspec": {
   "display_name": "Python 3 (ipykernel)",
   "language": "python",
   "name": "python3"
  },
  "language_info": {
   "codemirror_mode": {
    "name": "ipython",
    "version": 3
   },
   "file_extension": ".py",
   "mimetype": "text/x-python",
   "name": "python",
   "nbconvert_exporter": "python",
   "pygments_lexer": "ipython3",
   "version": "3.9.7"
  }
 },
 "nbformat": 4,
 "nbformat_minor": 5
}
