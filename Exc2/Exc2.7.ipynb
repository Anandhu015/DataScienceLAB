{
 "cells": [
  {
   "cell_type": "code",
   "execution_count": 8,
   "id": "215990f0",
   "metadata": {},
   "outputs": [
    {
     "name": "stdout",
     "output_type": "stream",
     "text": [
      "Enter row size :3\n",
      "Enter column size :3\n",
      "element:1\n",
      "element:2\n",
      "element:9\n",
      "element:12\n",
      "element:11\n",
      "element:2\n",
      "element:0\n",
      "element:0\n",
      "element:4\n",
      "[[ 1  2  9]\n",
      " [12 11  2]\n",
      " [ 0  0  4]]\n",
      "eigen values and eigenvectors are:\n",
      "[-1. 13.  4.]\n",
      "[[-0.70710678 -0.16439899  0.43375318]\n",
      " [ 0.70710678 -0.98639392 -0.83809937]\n",
      " [ 0.          0.          0.3308287 ]]\n"
     ]
    }
   ],
   "source": [
    "import numpy as nup\n",
    "array1=[]\n",
    "r=int(input(\"Enter row size :\"))\n",
    "c=int(input(\"Enter column size :\"))\n",
    "for i in range(r):\n",
    "    for j in range(c):\n",
    "        array1.append(int(input(\"element:\")))\n",
    "array1=nup.array(array1).reshape(r,c)\n",
    "print(array1)\n",
    "print(\"eigen values and eigenvectors are:\")\n",
    "w, v = nup.linalg.eig(array1)\n",
    "print(w)\n",
    "print(v)"
   ]
  },
  {
   "cell_type": "code",
   "execution_count": null,
   "id": "e0ae448b",
   "metadata": {},
   "outputs": [],
   "source": []
  },
  {
   "cell_type": "code",
   "execution_count": null,
   "id": "63034080",
   "metadata": {},
   "outputs": [],
   "source": []
  },
  {
   "cell_type": "code",
   "execution_count": null,
   "id": "78b10666",
   "metadata": {},
   "outputs": [],
   "source": []
  },
  {
   "cell_type": "code",
   "execution_count": null,
   "id": "f77aa6aa",
   "metadata": {},
   "outputs": [],
   "source": []
  }
 ],
 "metadata": {
  "kernelspec": {
   "display_name": "Python 3 (ipykernel)",
   "language": "python",
   "name": "python3"
  },
  "language_info": {
   "codemirror_mode": {
    "name": "ipython",
    "version": 3
   },
   "file_extension": ".py",
   "mimetype": "text/x-python",
   "name": "python",
   "nbconvert_exporter": "python",
   "pygments_lexer": "ipython3",
   "version": "3.9.7"
  }
 },
 "nbformat": 4,
 "nbformat_minor": 5
}
