{
 "cells": [
  {
   "cell_type": "code",
   "execution_count": 3,
   "id": "1df5b5dd",
   "metadata": {},
   "outputs": [
    {
     "name": "stdout",
     "output_type": "stream",
     "text": [
      "Enter row size :3\n",
      "Enter column size :3\n",
      "element:1\n",
      "element:3\n",
      "element:-2\n",
      "element:-3\n",
      "element:0\n",
      "element:-5\n",
      "element:2\n",
      "element:5\n",
      "element:0\n",
      "[[ 1  3 -2]\n",
      " [-3  0 -5]\n",
      " [ 2  5  0]]\n",
      "Inverse of a matrix is\n",
      "[[ 1.   -0.4  -0.6 ]\n",
      " [-0.4   0.16  0.44]\n",
      " [-0.6   0.04  0.36]]\n"
     ]
    }
   ],
   "source": [
    "import numpy as nup\n",
    "array1=[]\n",
    "r=int(input(\"Enter row size :\"))\n",
    "c=int(input(\"Enter column size :\"))\n",
    "for i in range(r):\n",
    "    for j in range(c):\n",
    "        array1.append(int(input(\"element:\")))\n",
    "array1=nup.array(array1).reshape(r,c)\n",
    "print(array1)\n",
    "print(\"Inverse of a matrix is\")\n",
    "print(nup.linalg.inv(array1))"
   ]
  },
  {
   "cell_type": "code",
   "execution_count": null,
   "id": "9509888b",
   "metadata": {},
   "outputs": [],
   "source": []
  }
 ],
 "metadata": {
  "kernelspec": {
   "display_name": "Python 3 (ipykernel)",
   "language": "python",
   "name": "python3"
  },
  "language_info": {
   "codemirror_mode": {
    "name": "ipython",
    "version": 3
   },
   "file_extension": ".py",
   "mimetype": "text/x-python",
   "name": "python",
   "nbconvert_exporter": "python",
   "pygments_lexer": "ipython3",
   "version": "3.9.7"
  }
 },
 "nbformat": 4,
 "nbformat_minor": 5
}
