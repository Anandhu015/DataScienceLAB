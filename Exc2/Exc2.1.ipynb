{
 "cells": [
  {
   "cell_type": "code",
   "execution_count": 19,
   "id": "9a29d40f",
   "metadata": {},
   "outputs": [
    {
     "name": "stdout",
     "output_type": "stream",
     "text": [
      "Enter row size :1\n",
      "Enter column size :3\n",
      "element:1\n",
      "element:3\n",
      "element:4\n",
      "[[1 3 4]]\n",
      "Enter row size :3\n",
      "Enter column size :1\n",
      "element:3\n",
      "element:4\n",
      "element:5\n",
      "[[3]\n",
      " [4]\n",
      " [5]]\n",
      "dot product of two arrays are\n",
      "[[35]]\n"
     ]
    }
   ],
   "source": [
    "import numpy as nup\n",
    "array1=[]\n",
    "r=int(input(\"Enter row size :\"))\n",
    "c=int(input(\"Enter column size :\"))\n",
    "for i in range(r):\n",
    "    for j in range(c):\n",
    "        array1.append(int(input(\"element:\")))\n",
    "array1=nup.array(array1).reshape(r,c)\n",
    "print(array1)\n",
    "array2=[]\n",
    "r1=int(input(\"Enter row size :\"))\n",
    "c1=int(input(\"Enter column size :\"))\n",
    "for i in range(r1):\n",
    "    for j in range(c1):\n",
    "        array2.append(int(input(\"element:\")))\n",
    "array2=nup.array(array2).reshape(r1,c1)\n",
    "print(array2)\n",
    "print(\"dot product of two arrays are\")\n",
    "print(nup.dot(array1,array2))"
   ]
  },
  {
   "cell_type": "markdown",
   "id": "db18b956",
   "metadata": {},
   "source": []
  },
  {
   "cell_type": "code",
   "execution_count": null,
   "id": "2de2bf0c",
   "metadata": {},
   "outputs": [],
   "source": []
  },
  {
   "cell_type": "code",
   "execution_count": null,
   "id": "d4d0e599",
   "metadata": {},
   "outputs": [],
   "source": []
  },
  {
   "cell_type": "code",
   "execution_count": null,
   "id": "822fdac5",
   "metadata": {},
   "outputs": [],
   "source": []
  }
 ],
 "metadata": {
  "kernelspec": {
   "display_name": "Python 3 (ipykernel)",
   "language": "python",
   "name": "python3"
  },
  "language_info": {
   "codemirror_mode": {
    "name": "ipython",
    "version": 3
   },
   "file_extension": ".py",
   "mimetype": "text/x-python",
   "name": "python",
   "nbconvert_exporter": "python",
   "pygments_lexer": "ipython3",
   "version": "3.9.7"
  }
 },
 "nbformat": 4,
 "nbformat_minor": 5
}
